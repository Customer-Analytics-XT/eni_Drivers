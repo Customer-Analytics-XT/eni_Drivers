{
 "cells": [
  {
   "cell_type": "code",
   "execution_count": 1,
   "id": "190dc144-6762-4dff-8e5b-0ae3c3592c83",
   "metadata": {},
   "outputs": [],
   "source": [
    "import torch\n",
    "from transformers import AutoModelForSequenceClassification, AutoTokenizer"
   ]
  },
  {
   "cell_type": "code",
   "execution_count": 2,
   "id": "09e0bd68-43db-40d4-a4e5-95632b89f7cf",
   "metadata": {},
   "outputs": [],
   "source": [
    "model_path = \"bert-driver4\"\n",
    "model = AutoModelForSequenceClassification.from_pretrained(model_path)\n",
    "tokenizer = AutoTokenizer.from_pretrained(model_path)\n",
    "\n",
    "device = torch.device(\"cuda\" if torch.cuda.is_available() else \"cpu\")\n",
    "model.to(device)\n",
    "model.eval()\n",
    "\n",
    "labels = [\"Products\", \"Innovation\", \"Workplace\", \"Governance\", \"Citizenship\", \"Leadership\", \"Performance\"]"
   ]
  },
  {
   "cell_type": "code",
   "execution_count": 3,
   "id": "0a8add12-b3f2-48ea-b8ef-f854d0fc6f11",
   "metadata": {},
   "outputs": [],
   "source": [
    "def predict_labels(text, threshold=0.5):\n",
    "    inputs = tokenizer(text, return_tensors=\"pt\", truncation=True, max_length=512)\n",
    "    inputs = {k: v.to(device) for k, v in inputs.items()}\n",
    "    with torch.no_grad():\n",
    "        outputs = model(**inputs)\n",
    "    logits = outputs.logits\n",
    "    probs = torch.sigmoid(logits).cpu().numpy()[0]\n",
    "    preds = (probs >= threshold).astype(int)\n",
    "    return probs, preds"
   ]
  },
  {
   "cell_type": "code",
   "execution_count": 4,
   "id": "1e4c76e1",
   "metadata": {},
   "outputs": [
    {
     "data": {
      "text/plain": [
       "['Workplace', 'Leadership']"
      ]
     },
     "execution_count": 4,
     "metadata": {},
     "output_type": "execute_result"
    }
   ],
   "source": [
    "text = \"Descalzi ha parlato alle famiglie dei dipendenti per augurare un buon anno\"\n",
    "probs, preds = predict_labels(text)\n",
    "drivers = []\n",
    "for i in range(len(labels)):\n",
    "    if preds[i] == 1:\n",
    "        drivers.append(labels[i])\n",
    "drivers"
   ]
  }
 ],
 "metadata": {
  "kernelspec": {
   "display_name": "eni",
   "language": "python",
   "name": "python3"
  },
  "language_info": {
   "codemirror_mode": {
    "name": "ipython",
    "version": 3
   },
   "file_extension": ".py",
   "mimetype": "text/x-python",
   "name": "python",
   "nbconvert_exporter": "python",
   "pygments_lexer": "ipython3",
   "version": "3.11.8"
  }
 },
 "nbformat": 4,
 "nbformat_minor": 5
}
